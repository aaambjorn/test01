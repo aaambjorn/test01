{
 "cells": [
  {
   "cell_type": "markdown",
   "id": "a6954fa7",
   "metadata": {},
   "source": [
    "# Calculus1"
   ]
  },
  {
   "cell_type": "markdown",
   "id": "7922f53b",
   "metadata": {},
   "source": [
    "https://www.youtube.com/watch?v=m01p-1RSLs0&t=518s&ab_channel=quantpie"
   ]
  },
  {
   "cell_type": "code",
   "execution_count": 10,
   "id": "3f53e5cf",
   "metadata": {},
   "outputs": [],
   "source": [
    "import sympy as sp\n",
    "x,y=sp.symbols('x y')\n",
    "f,g=sp.symbols('f g',cls=sp.Function)\n",
    "#sp.init_printing(pretty_print=True)"
   ]
  },
  {
   "cell_type": "code",
   "execution_count": 11,
   "id": "81f4fea1",
   "metadata": {},
   "outputs": [],
   "source": [
    "#sp. press tab so you can see all alternative"
   ]
  },
  {
   "cell_type": "code",
   "execution_count": 12,
   "id": "3970b96b",
   "metadata": {
    "scrolled": true
   },
   "outputs": [
    {
     "name": "stdout",
     "output_type": "stream",
     "text": [
      "[-1, 1]\n",
      "1\n",
      "{x: -1}\n"
     ]
    },
    {
     "data": {
      "image/png": "[encoded data removed]",
      "text/latex": [
       "$\\displaystyle -1$"
      ],
      "text/plain": [
       "-1"
      ]
     },
     "execution_count": 12,
     "metadata": {},
     "output_type": "execute_result"
    }
   ],
   "source": [
    "typ=(sp.solve(x**2-1))\n",
    "print(typ)\n",
    "print(typ[1])\n",
    "a=sp.solve([x**2-1])[0]\n",
    "print(a)\n",
    "b=list(a.values())[0]\n",
    "(b)"
   ]
  },
  {
   "cell_type": "code",
   "execution_count": 75,
   "id": "92f31586",
   "metadata": {},
   "outputs": [
    {
     "name": "stdout",
     "output_type": "stream",
     "text": [
      "{x: 31/13, y: -7/13}\n"
     ]
    },
    {
     "data": {
      "text/latex": [
       "$\\displaystyle \\frac{31}{13}$"
      ],
      "text/plain": [
       "31/13"
      ]
     },
     "execution_count": 75,
     "metadata": {},
     "output_type": "execute_result"
    }
   ],
   "source": [
    "print(sp.solve([3*x+4*y-5,-x+3*y+4]))\n",
    "list(sp.solve([3*x+4*y-5,-x+3*y+4]).values())[0]"
   ]
  },
  {
   "cell_type": "code",
   "execution_count": 3,
   "id": "7d0fe658",
   "metadata": {},
   "outputs": [
    {
     "data": {
      "text/latex": [
       "$\\displaystyle 3 x + 4 y = 5$"
      ],
      "text/plain": [
       "Eq(3*x + 4*y, 5)"
      ]
     },
     "metadata": {},
     "output_type": "display_data"
    },
    {
     "data": {
      "text/plain": [
       "[5/4 - 3*x/4]"
      ]
     },
     "metadata": {},
     "output_type": "display_data"
    },
    {
     "data": {
      "text/latex": [
       "$\\displaystyle - x + 3 y = -4$"
      ],
      "text/plain": [
       "Eq(-x + 3*y, -4)"
      ]
     },
     "metadata": {},
     "output_type": "display_data"
    },
    {
     "data": {
      "text/plain": [
       "[x/3 - 4/3]"
      ]
     },
     "metadata": {},
     "output_type": "display_data"
    },
    {
     "data": {
      "text/plain": [
       "{x: 31/13, y: -7/13}"
      ]
     },
     "metadata": {},
     "output_type": "display_data"
    },
    {
     "data": {
      "text/plain": [
       "{x: 31/13, y: -7/13}"
      ]
     },
     "metadata": {},
     "output_type": "display_data"
    },
    {
     "data": {
      "text/latex": [
       "$\\displaystyle \\frac{31}{13}$"
      ],
      "text/plain": [
       "31/13"
      ]
     },
     "metadata": {},
     "output_type": "display_data"
    },
    {
     "data": {
      "text/latex": [
       "$\\displaystyle -0.5385$"
      ],
      "text/plain": [
       "-0.5385"
      ]
     },
     "metadata": {},
     "output_type": "display_data"
    },
    {
     "data": {
      "text/latex": [
       "$\\displaystyle 2.385$"
      ],
      "text/plain": [
       "2.385"
      ]
     },
     "execution_count": 3,
     "metadata": {},
     "output_type": "execute_result"
    }
   ],
   "source": [
    "eq1=sp.Eq(3*x+4*y,5)\n",
    "eq2=sp.Eq(-x+3*y,-4)\n",
    "display(eq1)\n",
    "display(sp.solve(eq1,y))#löser ut y ur ekvationen\n",
    "display(eq2)\n",
    "display(sp.solve(eq2,y))\n",
    "display(sp.solve([eq1,eq2],[x,y]))\n",
    "display(sp.solve((eq1,eq2),(x,y)))\n",
    "svar=sp.solve((eq1,eq2),(x,y))\n",
    "display(svar[x])\n",
    "display(svar[y].evalf(4))\n",
    "sp.N(svar[x],4)"
   ]
  },
  {
   "cell_type": "code",
   "execution_count": 4,
   "id": "a0586774",
   "metadata": {},
   "outputs": [
    {
     "data": {
      "text/plain": [
       "[-1, 1]"
      ]
     },
     "execution_count": 4,
     "metadata": {},
     "output_type": "execute_result"
    }
   ],
   "source": [
    "sp.solve(sp.Eq(x**2,1))"
   ]
  },
  {
   "cell_type": "code",
   "execution_count": 5,
   "id": "ba96d325",
   "metadata": {},
   "outputs": [
    {
     "data": {
      "text/plain": [
       "[5/4 - 3*x/4]"
      ]
     },
     "metadata": {},
     "output_type": "display_data"
    },
    {
     "data": {
      "text/latex": [
       "$\\displaystyle \\frac{5}{4} - \\frac{3 x}{4}$"
      ],
      "text/plain": [
       "5/4 - 3*x/4"
      ]
     },
     "metadata": {},
     "output_type": "display_data"
    },
    {
     "data": {
      "text/latex": [
       "$\\displaystyle \\frac{x}{3} - \\frac{4}{3}$"
      ],
      "text/plain": [
       "x/3 - 4/3"
      ]
     },
     "execution_count": 5,
     "metadata": {},
     "output_type": "execute_result"
    }
   ],
   "source": [
    "blue=sp.solve(eq1,y)\n",
    "display(blue)\n",
    "display(blue[0])\n",
    "red=sp.solve(eq2,y)\n",
    "red[0]"
   ]
  },
  {
   "cell_type": "code",
   "execution_count": 6,
   "id": "8932b693",
   "metadata": {},
   "outputs": [
    {
     "data": {
      "image/png": "[encoded data removed]",
      "text/plain": [
       "<Figure size 432x288 with 1 Axes>"
      ]
     },
     "metadata": {
      "needs_background": "light"
     },
     "output_type": "display_data"
    }
   ],
   "source": [
    "p=sp.plot(blue[0],red[0],legend=True,show=False)\n",
    "p[0].line_color='b'\n",
    "p[1].line_color='r'\n",
    "p.show()"
   ]
  },
  {
   "cell_type": "code",
   "execution_count": 14,
   "id": "cd6f3110",
   "metadata": {},
   "outputs": [
    {
     "data": {
      "text/latex": [
       "$\\displaystyle \\frac{5}{4} - \\frac{3 x}{4}$"
      ],
      "text/plain": [
       "5/4 - 3*x/4"
      ]
     },
     "metadata": {},
     "output_type": "display_data"
    },
    {
     "data": {
      "text/latex": [
       "$\\displaystyle \\frac{x}{3} - \\frac{4}{3}$"
      ],
      "text/plain": [
       "x/3 - 4/3"
      ]
     },
     "metadata": {},
     "output_type": "display_data"
    },
    {
     "name": "stdout",
     "output_type": "stream",
     "text": [
      "[31/13]\n",
      "-7/13\n",
      "x_skarning[0],,y_skarning\n",
      "31/13        -7/13\n"
     ]
    }
   ],
   "source": [
    "x=sp.symbols('x')\n",
    "lineBlue=sp.solve(eq1,y)[0]\n",
    "display((lineBlue))\n",
    "lineRed=(sp.solve(eq2,y)[0])\n",
    "display(lineRed)\n",
    "x_skarning=sp.solve(sp.Eq(lineBlue,lineRed),x)\n",
    "print(x_skarning)\n",
    "y_skarning=lineBlue.subs(x,x_skarning[0])\n",
    "print(y_skarning)\n",
    "print('x_skarning[0],'  ',y_skarning')\n",
    "print(x_skarning[0],'      ',y_skarning)"
   ]
  },
  {
   "cell_type": "code",
   "execution_count": 10,
   "id": "7852e250",
   "metadata": {},
   "outputs": [
    {
     "data": {
      "text/latex": [
       "$\\displaystyle 20 x^{3}$"
      ],
      "text/plain": [
       "20*x**3"
      ]
     },
     "execution_count": 10,
     "metadata": {},
     "output_type": "execute_result"
    }
   ],
   "source": [
    "sp.diff(x**5,x,x)"
   ]
  },
  {
   "cell_type": "code",
   "execution_count": 11,
   "id": "f653912f",
   "metadata": {},
   "outputs": [
    {
     "data": {
      "text/latex": [
       "$\\displaystyle f{\\left(x \\right)} \\frac{d}{d x} g{\\left(x \\right)} + g{\\left(x \\right)} \\frac{d}{d x} f{\\left(x \\right)}$"
      ],
      "text/plain": [
       "f(x)*Derivative(g(x), x) + g(x)*Derivative(f(x), x)"
      ]
     },
     "execution_count": 11,
     "metadata": {},
     "output_type": "execute_result"
    }
   ],
   "source": [
    "sp.diff(f(x)*g(x))"
   ]
  },
  {
   "cell_type": "code",
   "execution_count": 68,
   "id": "4c9376bc",
   "metadata": {},
   "outputs": [
    {
     "data": {
      "text/latex": [
       "$\\displaystyle \\frac{d}{d x} f{\\left(x \\right)} g{\\left(x \\right)}$"
      ],
      "text/plain": [
       "Derivative(f(x)*g(x), x)"
      ]
     },
     "execution_count": 68,
     "metadata": {},
     "output_type": "execute_result"
    }
   ],
   "source": [
    "sp.Derivative(f(x)*g(x))"
   ]
  },
  {
   "cell_type": "code",
   "execution_count": 69,
   "id": "41f1aa43",
   "metadata": {},
   "outputs": [
    {
     "data": {
      "text/latex": [
       "$\\displaystyle f{\\left(x \\right)} \\frac{d}{d x} g{\\left(x \\right)} + g{\\left(x \\right)} \\frac{d}{d x} f{\\left(x \\right)}$"
      ],
      "text/plain": [
       "f(x)*Derivative(g(x), x) + g(x)*Derivative(f(x), x)"
      ]
     },
     "execution_count": 69,
     "metadata": {},
     "output_type": "execute_result"
    }
   ],
   "source": [
    "sp.Derivative(f(x)*g(x)).doit()"
   ]
  },
  {
   "cell_type": "code",
   "execution_count": 70,
   "id": "2f33afd9",
   "metadata": {},
   "outputs": [
    {
     "data": {
      "text/latex": [
       "$\\displaystyle - \\frac{f{\\left(x \\right)} \\frac{d}{d x} g{\\left(x \\right)}}{g^{2}{\\left(x \\right)}} + \\frac{\\frac{d}{d x} f{\\left(x \\right)}}{g{\\left(x \\right)}}$"
      ],
      "text/plain": [
       "-f(x)*Derivative(g(x), x)/g(x)**2 + Derivative(f(x), x)/g(x)"
      ]
     },
     "execution_count": 70,
     "metadata": {},
     "output_type": "execute_result"
    }
   ],
   "source": [
    "sp.diff(f(x)/g(x))"
   ]
  },
  {
   "cell_type": "code",
   "execution_count": 71,
   "id": "f1d16492",
   "metadata": {},
   "outputs": [
    {
     "data": {
      "text/latex": [
       "$\\displaystyle \\frac{- f{\\left(x \\right)} \\frac{d}{d x} g{\\left(x \\right)} + g{\\left(x \\right)} \\frac{d}{d x} f{\\left(x \\right)}}{g^{2}{\\left(x \\right)}}$"
      ],
      "text/plain": [
       "(-f(x)*Derivative(g(x), x) + g(x)*Derivative(f(x), x))/g(x)**2"
      ]
     },
     "execution_count": 71,
     "metadata": {},
     "output_type": "execute_result"
    }
   ],
   "source": [
    "sp.together(sp.diff(f(x)/g(x)))"
   ]
  },
  {
   "cell_type": "code",
   "execution_count": 72,
   "id": "d9756994",
   "metadata": {},
   "outputs": [
    {
     "data": {
      "text/latex": [
       "$\\displaystyle \\int x^{2}\\, dx$"
      ],
      "text/plain": [
       "Integral(x**2, x)"
      ]
     },
     "execution_count": 72,
     "metadata": {},
     "output_type": "execute_result"
    }
   ],
   "source": [
    "sp.Integral(x**2,x)"
   ]
  },
  {
   "cell_type": "code",
   "execution_count": 29,
   "id": "c22ddd62",
   "metadata": {
    "scrolled": true
   },
   "outputs": [
    {
     "data": {
      "text/latex": [
       "$\\displaystyle \\int\\limits_{0}^{1} x^{2}\\, dx$"
      ],
      "text/plain": [
       "Integral(x**2, (x, 0, 1))"
      ]
     },
     "execution_count": 29,
     "metadata": {},
     "output_type": "execute_result"
    }
   ],
   "source": [
    "sp.Integral(x**2,(x,0,1))"
   ]
  },
  {
   "cell_type": "code",
   "execution_count": 28,
   "id": "80524191",
   "metadata": {},
   "outputs": [
    {
     "data": {
      "text/plain": [
       "'\\\\int\\\\limits_{0}^{1} x^{2}\\\\, dx'"
      ]
     },
     "execution_count": 28,
     "metadata": {},
     "output_type": "execute_result"
    }
   ],
   "source": [
    "sp.latex(sp.Integral(x**2,(x,0,1)))"
   ]
  },
  {
   "cell_type": "markdown",
   "id": "ab7ba45d",
   "metadata": {},
   "source": [
    "$\\int\\limits_{0}^{1} x^{2}\\,dx$"
   ]
  },
  {
   "cell_type": "code",
   "execution_count": 74,
   "id": "b3529688",
   "metadata": {},
   "outputs": [
    {
     "data": {
      "text/latex": [
       "$\\displaystyle \\frac{1}{3}$"
      ],
      "text/plain": [
       "1/3"
      ]
     },
     "execution_count": 74,
     "metadata": {},
     "output_type": "execute_result"
    }
   ],
   "source": [
    "sp.integrate(x**2,(x,0,1))"
   ]
  },
  {
   "cell_type": "code",
   "execution_count": 75,
   "id": "1da6b86d",
   "metadata": {},
   "outputs": [
    {
     "data": {
      "text/latex": [
       "$\\displaystyle \\frac{x^{3}}{3}$"
      ],
      "text/plain": [
       "x**3/3"
      ]
     },
     "execution_count": 75,
     "metadata": {},
     "output_type": "execute_result"
    }
   ],
   "source": [
    "sp.integrate(x**2,x)"
   ]
  },
  {
   "cell_type": "code",
   "execution_count": 76,
   "id": "4dc1e194",
   "metadata": {},
   "outputs": [
    {
     "data": {
      "text/latex": [
       "$\\displaystyle 1$"
      ],
      "text/plain": [
       "1"
      ]
     },
     "execution_count": 76,
     "metadata": {},
     "output_type": "execute_result"
    }
   ],
   "source": [
    "sp.limit(sp.sin(x)/x,x,0)"
   ]
  },
  {
   "cell_type": "code",
   "execution_count": 77,
   "id": "75d87372",
   "metadata": {},
   "outputs": [
    {
     "data": {
      "text/latex": [
       "$\\displaystyle -1$"
      ],
      "text/plain": [
       "-1"
      ]
     },
     "execution_count": 77,
     "metadata": {},
     "output_type": "execute_result"
    }
   ],
   "source": [
    "sp.limit(x/abs(x),x,0,'-')"
   ]
  },
  {
   "cell_type": "code",
   "execution_count": 78,
   "id": "90b25fe6",
   "metadata": {},
   "outputs": [
    {
     "data": {
      "text/latex": [
       "$\\displaystyle 1$"
      ],
      "text/plain": [
       "1"
      ]
     },
     "execution_count": 78,
     "metadata": {},
     "output_type": "execute_result"
    }
   ],
   "source": [
    "sp.limit(x/abs(x),x,0,'+')"
   ]
  },
  {
   "cell_type": "code",
   "execution_count": 79,
   "id": "fbd315bf",
   "metadata": {},
   "outputs": [
    {
     "data": {
      "text/latex": [
       "$\\displaystyle - f{\\left(x \\right)} - e^{x} + \\frac{d}{d x} f{\\left(x \\right)}$"
      ],
      "text/plain": [
       "-f(x) - exp(x) + Derivative(f(x), x)"
      ]
     },
     "execution_count": 79,
     "metadata": {},
     "output_type": "execute_result"
    }
   ],
   "source": [
    "expr=sp.Derivative(f(x),x)-f(x)-sp.exp(x)\n",
    "expr"
   ]
  },
  {
   "cell_type": "code",
   "execution_count": 80,
   "id": "eb577cd6",
   "metadata": {},
   "outputs": [
    {
     "data": {
      "text/latex": [
       "$\\displaystyle f{\\left(x \\right)} = \\left(C_{1} + x\\right) e^{x}$"
      ],
      "text/plain": [
       "Eq(f(x), (C1 + x)*exp(x))"
      ]
     },
     "execution_count": 80,
     "metadata": {},
     "output_type": "execute_result"
    }
   ],
   "source": [
    "sp.dsolve(expr,f(x))"
   ]
  },
  {
   "cell_type": "code",
   "execution_count": 81,
   "id": "d2548971",
   "metadata": {},
   "outputs": [
    {
     "data": {
      "text/latex": [
       "$\\displaystyle f{\\left(x \\right)} = x e^{x}$"
      ],
      "text/plain": [
       "Eq(f(x), x*exp(x))"
      ]
     },
     "execution_count": 81,
     "metadata": {},
     "output_type": "execute_result"
    }
   ],
   "source": [
    "sp.dsolve(expr,f(x),ics={f(x).subs(x,0):0})"
   ]
  },
  {
   "cell_type": "code",
   "execution_count": 82,
   "id": "5b831972",
   "metadata": {},
   "outputs": [
    {
     "data": {
      "text/latex": [
       "$\\displaystyle 2 f{\\left(x \\right)} + 3 \\frac{d}{d x} f{\\left(x \\right)} + \\frac{d^{2}}{d x^{2}} f{\\left(x \\right)}$"
      ],
      "text/plain": [
       "2*f(x) + 3*Derivative(f(x), x) + Derivative(f(x), (x, 2))"
      ]
     },
     "execution_count": 82,
     "metadata": {},
     "output_type": "execute_result"
    }
   ],
   "source": [
    "expr1=sp.Derivative(f(x),x,2)+3*sp.Derivative(f(x),x)+2*f(x)\n",
    "expr1"
   ]
  },
  {
   "cell_type": "code",
   "execution_count": 83,
   "id": "6d0df27c",
   "metadata": {},
   "outputs": [
    {
     "data": {
      "text/latex": [
       "$\\displaystyle \\frac{d^{2}}{d x^{2}} 5 x^{5}$"
      ],
      "text/plain": [
       "Derivative(5*x**5, (x, 2))"
      ]
     },
     "execution_count": 83,
     "metadata": {},
     "output_type": "execute_result"
    }
   ],
   "source": [
    "sp.Derivative(5*x**5,x,2)"
   ]
  },
  {
   "cell_type": "code",
   "execution_count": 84,
   "id": "7d5cc448",
   "metadata": {},
   "outputs": [
    {
     "data": {
      "text/latex": [
       "$\\displaystyle f{\\left(x \\right)} = \\left(C_{1} + C_{2} e^{- x}\\right) e^{- x}$"
      ],
      "text/plain": [
       "Eq(f(x), (C1 + C2*exp(-x))*exp(-x))"
      ]
     },
     "execution_count": 84,
     "metadata": {},
     "output_type": "execute_result"
    }
   ],
   "source": [
    "sp.dsolve(expr1,f(x))"
   ]
  },
  {
   "cell_type": "code",
   "execution_count": 85,
   "id": "03b58f17",
   "metadata": {},
   "outputs": [
    {
     "data": {
      "text/latex": [
       "$\\displaystyle f{\\left(x \\right)} = e^{- x} - e^{- 2 x}$"
      ],
      "text/plain": [
       "Eq(f(x), exp(-x) - exp(-2*x))"
      ]
     },
     "execution_count": 85,
     "metadata": {},
     "output_type": "execute_result"
    }
   ],
   "source": [
    "sp.dsolve(expr1,f(x),ics={f(x).subs(x,0):0,f(x).diff(x).subs(x,0):1},simplify=False)"
   ]
  },
  {
   "cell_type": "code",
   "execution_count": 119,
   "id": "d486edf6",
   "metadata": {},
   "outputs": [
    {
     "data": {
      "text/plain": [
       "{c1: 1, c2: 1}"
      ]
     },
     "execution_count": 119,
     "metadata": {},
     "output_type": "execute_result"
    }
   ],
   "source": [
    "c1,c2=sp.symbols('c1 c2')\n",
    "ff=sp.Function\n",
    "ff=c1*sp.exp(-x)-c2*sp.exp(-2*x)\n",
    "sp.solve((ff.diff(x).subs(x,0)-1,ff.subs(x,0)),(c1,c2))"
   ]
  },
  {
   "cell_type": "code",
   "execution_count": 122,
   "id": "46a1e3a3",
   "metadata": {},
   "outputs": [
    {
     "data": {
      "text/latex": [
       "$\\displaystyle 1$"
      ],
      "text/plain": [
       "1"
      ]
     },
     "metadata": {},
     "output_type": "display_data"
    },
    {
     "data": {
      "text/latex": [
       "$\\displaystyle 0$"
      ],
      "text/plain": [
       "0"
      ]
     },
     "execution_count": 122,
     "metadata": {},
     "output_type": "execute_result"
    }
   ],
   "source": [
    "var={x:0,c1:1,c2:1}\n",
    "display(ff.diff(x).subs(var))\n",
    "ff.subs(var)"
   ]
  },
  {
   "cell_type": "code",
   "execution_count": 115,
   "id": "90e391ef",
   "metadata": {},
   "outputs": [
    {
     "data": {
      "text/latex": [
       "$\\displaystyle f{\\left(x \\right)} = e^{- x} - e^{- 2 x}$"
      ],
      "text/plain": [
       "Eq(f(x), exp(-x) - exp(-2*x))"
      ]
     },
     "execution_count": 115,
     "metadata": {},
     "output_type": "execute_result"
    }
   ],
   "source": [
    "sp.dsolve(expr1,f(x),ics={f(x).subs(x,0):0,f(x).diff(x).subs(x,0):1},simplify=False)"
   ]
  },
  {
   "cell_type": "code",
   "execution_count": 88,
   "id": "ab3e0db5",
   "metadata": {},
   "outputs": [
    {
     "data": {
      "text/latex": [
       "$\\displaystyle f{\\left(x \\right)} = \\left(1 - e^{- x}\\right) e^{- x}$"
      ],
      "text/plain": [
       "Eq(f(x), (1 - exp(-x))*exp(-x))"
      ]
     },
     "execution_count": 88,
     "metadata": {},
     "output_type": "execute_result"
    }
   ],
   "source": [
    "sp.dsolve(expr1,f(x),ics={f(x).subs(x,0):0,f(x).diff(x).subs(x,0):1},simplify=True)"
   ]
  },
  {
   "cell_type": "code",
   "execution_count": 20,
   "id": "88c99a25",
   "metadata": {},
   "outputs": [
    {
     "data": {
      "text/latex": [
       "$\\displaystyle x^{2} + y^{2}$"
      ],
      "text/plain": [
       "x**2 + y**2"
      ]
     },
     "execution_count": 20,
     "metadata": {},
     "output_type": "execute_result"
    }
   ],
   "source": [
    "g=sp.Function\n",
    "g=x**2+y**2\n",
    "g"
   ]
  },
  {
   "cell_type": "code",
   "execution_count": 25,
   "id": "b0e0d01d",
   "metadata": {},
   "outputs": [
    {
     "data": {
      "text/latex": [
       "$\\displaystyle \\int\\limits_{0}^{1}\\int\\limits_{0}^{2} \\left(x^{2} + y^{2}\\right)\\, dx\\, dy$"
      ],
      "text/plain": [
       "Integral(x**2 + y**2, (x, 0, 2), (y, 0, 1))"
      ]
     },
     "execution_count": 25,
     "metadata": {},
     "output_type": "execute_result"
    }
   ],
   "source": [
    "sp.Integral(g,(x,0,2),(y,0,1))"
   ]
  },
  {
   "cell_type": "code",
   "execution_count": 24,
   "id": "cc9f129d",
   "metadata": {},
   "outputs": [
    {
     "data": {
      "text/latex": [
       "$\\displaystyle \\frac{10}{3}$"
      ],
      "text/plain": [
       "10/3"
      ]
     },
     "execution_count": 24,
     "metadata": {},
     "output_type": "execute_result"
    }
   ],
   "source": [
    "sp.Integral(g,(x,0,2),(y,0,1)).doit()"
   ]
  },
  {
   "cell_type": "code",
   "execution_count": 22,
   "id": "81ae1ea0",
   "metadata": {},
   "outputs": [
    {
     "data": {
      "text/latex": [
       "$\\displaystyle \\frac{x^{3}}{3} + x y^{2}$"
      ],
      "text/plain": [
       "x**3/3 + x*y**2"
      ]
     },
     "execution_count": 22,
     "metadata": {},
     "output_type": "execute_result"
    }
   ],
   "source": [
    "sp.integrate(g,x)"
   ]
  },
  {
   "cell_type": "code",
   "execution_count": 23,
   "id": "51eaa28a",
   "metadata": {},
   "outputs": [
    {
     "data": {
      "text/latex": [
       "$\\displaystyle x^{2} y + \\frac{y^{3}}{3}$"
      ],
      "text/plain": [
       "x**2*y + y**3/3"
      ]
     },
     "execution_count": 23,
     "metadata": {},
     "output_type": "execute_result"
    }
   ],
   "source": [
    "sp.integrate(g,y)"
   ]
  },
  {
   "cell_type": "code",
   "execution_count": 3,
   "id": "eddfddee",
   "metadata": {},
   "outputs": [
    {
     "data": {
      "text/latex": [
       "$\\displaystyle x - 1$"
      ],
      "text/plain": [
       "x - 1"
      ]
     },
     "execution_count": 3,
     "metadata": {},
     "output_type": "execute_result"
    }
   ],
   "source": [
    "import sympy as sp\n",
    "x=sp.symbols('x')\n",
    "sp.gcd(x**2-1,x-1)"
   ]
  },
  {
   "cell_type": "code",
   "execution_count": 4,
   "id": "07914429",
   "metadata": {},
   "outputs": [
    {
     "data": {
      "text/latex": [
       "$\\displaystyle \\left(x - 1\\right) \\left(x + 1\\right)$"
      ],
      "text/plain": [
       "(x - 1)*(x + 1)"
      ]
     },
     "execution_count": 4,
     "metadata": {},
     "output_type": "execute_result"
    }
   ],
   "source": [
    "sp.factor(x**2-1)"
   ]
  },
  {
   "cell_type": "code",
   "execution_count": 6,
   "id": "ce2c1bbb",
   "metadata": {},
   "outputs": [
    {
     "data": {
      "text/latex": [
       "$\\displaystyle x - 1$"
      ],
      "text/plain": [
       "x - 1"
      ]
     },
     "execution_count": 6,
     "metadata": {},
     "output_type": "execute_result"
    }
   ],
   "source": [
    "sp.gcd_list([x**2-1,x-1])"
   ]
  },
  {
   "cell_type": "code",
   "execution_count": 20,
   "id": "6a59f99a",
   "metadata": {},
   "outputs": [
    {
     "data": {
      "text/plain": [
       "3"
      ]
     },
     "execution_count": 20,
     "metadata": {},
     "output_type": "execute_result"
    }
   ],
   "source": [
    "list(sp.factorint(12))[1]"
   ]
  },
  {
   "cell_type": "code",
   "execution_count": 21,
   "id": "a87f87d8",
   "metadata": {},
   "outputs": [
    {
     "data": {
      "text/plain": [
       "{2: 2, 3: 1}"
      ]
     },
     "execution_count": 21,
     "metadata": {},
     "output_type": "execute_result"
    }
   ],
   "source": [
    "sp.factorint(12)"
   ]
  },
  {
   "cell_type": "code",
   "execution_count": 22,
   "id": "0519fb95",
   "metadata": {},
   "outputs": [
    {
     "data": {
      "text/latex": [
       "$\\displaystyle 4$"
      ],
      "text/plain": [
       "4"
      ]
     },
     "execution_count": 22,
     "metadata": {},
     "output_type": "execute_result"
    }
   ],
   "source": [
    "sp.gcd(12,8)"
   ]
  },
  {
   "cell_type": "code",
   "execution_count": 23,
   "id": "a44f108d",
   "metadata": {},
   "outputs": [
    {
     "data": {
      "text/plain": [
       "[2, 3]"
      ]
     },
     "execution_count": 23,
     "metadata": {},
     "output_type": "execute_result"
    }
   ],
   "source": [
    "sp.primefactors(12)"
   ]
  },
  {
   "cell_type": "code",
   "execution_count": 27,
   "id": "34ac1f63",
   "metadata": {},
   "outputs": [
    {
     "data": {
      "text/latex": [
       "$\\displaystyle \\left(x + 1\\right)^{2}$"
      ],
      "text/plain": [
       "(x + 1)**2"
      ]
     },
     "execution_count": 27,
     "metadata": {},
     "output_type": "execute_result"
    }
   ],
   "source": [
    "sp.factor(x**2+2*x+1)"
   ]
  },
  {
   "cell_type": "code",
   "execution_count": null,
   "id": "36cdc30b",
   "metadata": {},
   "outputs": [],
   "source": []
  }
 ],
 "metadata": {
  "kernelspec": {
   "display_name": "Python 3 (ipykernel)",
   "language": "python",
   "name": "python3"
  },
  "language_info": {
   "codemirror_mode": {
    "name": "ipython",
    "version": 3
   },
   "file_extension": ".py",
   "mimetype": "text/x-python",
   "name": "python",
   "nbconvert_exporter": "python",
   "pygments_lexer": "ipython3",
   "version": "3.9.7"
  }
 },
 "nbformat": 4,
 "nbformat_minor": 5
}
